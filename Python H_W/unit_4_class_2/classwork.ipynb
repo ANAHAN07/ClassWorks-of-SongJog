{
 "cells": [
  {
   "cell_type": "markdown",
   "metadata": {},
   "source": [
    "[Course Github](https://github.com/Musfique-Ahmed/Shongjog-Python-Course/tree/main)"
   ]
  },
  {
   "cell_type": "markdown",
   "metadata": {},
   "source": [
    "# Pandas"
   ]
  },
  {
   "cell_type": "code",
   "execution_count": 71,
   "metadata": {},
   "outputs": [],
   "source": [
    "import pandas as pd "
   ]
  },
  {
   "cell_type": "markdown",
   "metadata": {},
   "source": [
    "## Creating DataFrame"
   ]
  },
  {
   "cell_type": "code",
   "execution_count": 72,
   "metadata": {},
   "outputs": [
    {
     "data": {
      "text/html": [
       "<div>\n",
       "<style scoped>\n",
       "    .dataframe tbody tr th:only-of-type {\n",
       "        vertical-align: middle;\n",
       "    }\n",
       "\n",
       "    .dataframe tbody tr th {\n",
       "        vertical-align: top;\n",
       "    }\n",
       "\n",
       "    .dataframe thead th {\n",
       "        text-align: right;\n",
       "    }\n",
       "</style>\n",
       "<table border=\"1\" class=\"dataframe\">\n",
       "  <thead>\n",
       "    <tr style=\"text-align: right;\">\n",
       "      <th></th>\n",
       "      <th>Name</th>\n",
       "      <th>Age</th>\n",
       "      <th>City</th>\n",
       "      <th>Score</th>\n",
       "    </tr>\n",
       "  </thead>\n",
       "  <tbody>\n",
       "    <tr>\n",
       "      <th>0</th>\n",
       "      <td>Tamanna</td>\n",
       "      <td>24</td>\n",
       "      <td>Dhaka</td>\n",
       "      <td>85</td>\n",
       "    </tr>\n",
       "    <tr>\n",
       "      <th>1</th>\n",
       "      <td>Faysal</td>\n",
       "      <td>27</td>\n",
       "      <td>Sylhet</td>\n",
       "      <td>95</td>\n",
       "    </tr>\n",
       "    <tr>\n",
       "      <th>2</th>\n",
       "      <td>Tarek</td>\n",
       "      <td>22</td>\n",
       "      <td>Dhaka</td>\n",
       "      <td>78</td>\n",
       "    </tr>\n",
       "    <tr>\n",
       "      <th>3</th>\n",
       "      <td>Raisa</td>\n",
       "      <td>32</td>\n",
       "      <td>Khulna</td>\n",
       "      <td>90</td>\n",
       "    </tr>\n",
       "    <tr>\n",
       "      <th>4</th>\n",
       "      <td>Imtiaz</td>\n",
       "      <td>24</td>\n",
       "      <td>Rajshahi</td>\n",
       "      <td>88</td>\n",
       "    </tr>\n",
       "    <tr>\n",
       "      <th>5</th>\n",
       "      <td>Farah</td>\n",
       "      <td>22</td>\n",
       "      <td>Sylhet</td>\n",
       "      <td>84</td>\n",
       "    </tr>\n",
       "  </tbody>\n",
       "</table>\n",
       "</div>"
      ],
      "text/plain": [
       "      Name  Age      City  Score\n",
       "0  Tamanna   24     Dhaka     85\n",
       "1   Faysal   27    Sylhet     95\n",
       "2    Tarek   22     Dhaka     78\n",
       "3    Raisa   32    Khulna     90\n",
       "4   Imtiaz   24  Rajshahi     88\n",
       "5    Farah   22    Sylhet     84"
      ]
     },
     "execution_count": 72,
     "metadata": {},
     "output_type": "execute_result"
    }
   ],
   "source": [
    "data = {\n",
    "    'Name': ['Tamanna', 'Faysal', 'Tarek', 'Raisa', 'Imtiaz', 'Farah'],\n",
    "    'Age': [24, 27, 22, 32, 24, 22],\n",
    "    'City': ['Dhaka', 'Sylhet', 'Dhaka', 'Khulna', 'Rajshahi', 'Sylhet'],\n",
    "    'Score': [85, 95, 78, 90, 88, 84]\n",
    "}\n",
    "df = pd.DataFrame(data)\n",
    "\n",
    "# df[\"Name\"].head()\n",
    "df = pd.DataFrame(data)\n",
    "df"
   ]
  },
  {
   "cell_type": "code",
   "execution_count": 73,
   "metadata": {},
   "outputs": [
    {
     "data": {
      "text/plain": [
       "0    Tamanna\n",
       "1     Faysal\n",
       "2      Tarek\n",
       "3      Raisa\n",
       "4     Imtiaz\n",
       "Name: Name, dtype: object"
      ]
     },
     "execution_count": 73,
     "metadata": {},
     "output_type": "execute_result"
    }
   ],
   "source": [
    "df[\"Name\"].head()"
   ]
  },
  {
   "cell_type": "code",
   "execution_count": 74,
   "metadata": {},
   "outputs": [
    {
     "data": {
      "text/plain": [
       "0       Dhaka\n",
       "1      Sylhet\n",
       "2       Dhaka\n",
       "3      Khulna\n",
       "4    Rajshahi\n",
       "Name: City, dtype: object"
      ]
     },
     "execution_count": 74,
     "metadata": {},
     "output_type": "execute_result"
    }
   ],
   "source": [
    "df[\"City\"].head()"
   ]
  },
  {
   "cell_type": "code",
   "execution_count": 75,
   "metadata": {},
   "outputs": [
    {
     "data": {
      "text/html": [
       "<div>\n",
       "<style scoped>\n",
       "    .dataframe tbody tr th:only-of-type {\n",
       "        vertical-align: middle;\n",
       "    }\n",
       "\n",
       "    .dataframe tbody tr th {\n",
       "        vertical-align: top;\n",
       "    }\n",
       "\n",
       "    .dataframe thead th {\n",
       "        text-align: right;\n",
       "    }\n",
       "</style>\n",
       "<table border=\"1\" class=\"dataframe\">\n",
       "  <thead>\n",
       "    <tr style=\"text-align: right;\">\n",
       "      <th></th>\n",
       "      <th>Name</th>\n",
       "      <th>Age</th>\n",
       "      <th>City</th>\n",
       "      <th>Score</th>\n",
       "    </tr>\n",
       "  </thead>\n",
       "  <tbody>\n",
       "    <tr>\n",
       "      <th>0</th>\n",
       "      <td>Tamanna</td>\n",
       "      <td>24</td>\n",
       "      <td>Dhaka</td>\n",
       "      <td>85</td>\n",
       "    </tr>\n",
       "    <tr>\n",
       "      <th>1</th>\n",
       "      <td>Faysal</td>\n",
       "      <td>27</td>\n",
       "      <td>Sylhet</td>\n",
       "      <td>95</td>\n",
       "    </tr>\n",
       "    <tr>\n",
       "      <th>2</th>\n",
       "      <td>Tarek</td>\n",
       "      <td>22</td>\n",
       "      <td>Dhaka</td>\n",
       "      <td>78</td>\n",
       "    </tr>\n",
       "    <tr>\n",
       "      <th>3</th>\n",
       "      <td>Raisa</td>\n",
       "      <td>32</td>\n",
       "      <td>Khulna</td>\n",
       "      <td>90</td>\n",
       "    </tr>\n",
       "    <tr>\n",
       "      <th>4</th>\n",
       "      <td>Imtiaz</td>\n",
       "      <td>24</td>\n",
       "      <td>Rajshahi</td>\n",
       "      <td>88</td>\n",
       "    </tr>\n",
       "  </tbody>\n",
       "</table>\n",
       "</div>"
      ],
      "text/plain": [
       "      Name  Age      City  Score\n",
       "0  Tamanna   24     Dhaka     85\n",
       "1   Faysal   27    Sylhet     95\n",
       "2    Tarek   22     Dhaka     78\n",
       "3    Raisa   32    Khulna     90\n",
       "4   Imtiaz   24  Rajshahi     88"
      ]
     },
     "execution_count": 75,
     "metadata": {},
     "output_type": "execute_result"
    }
   ],
   "source": [
    "df.head()"
   ]
  },
  {
   "cell_type": "code",
   "execution_count": 76,
   "metadata": {},
   "outputs": [
    {
     "data": {
      "text/plain": [
       "0    False\n",
       "1    False\n",
       "2    False\n",
       "3     True\n",
       "4    False\n",
       "5    False\n",
       "Name: Age, dtype: bool"
      ]
     },
     "execution_count": 76,
     "metadata": {},
     "output_type": "execute_result"
    }
   ],
   "source": [
    "df.Age > 30"
   ]
  },
  {
   "cell_type": "code",
   "execution_count": 77,
   "metadata": {},
   "outputs": [
    {
     "data": {
      "text/html": [
       "<div>\n",
       "<style scoped>\n",
       "    .dataframe tbody tr th:only-of-type {\n",
       "        vertical-align: middle;\n",
       "    }\n",
       "\n",
       "    .dataframe tbody tr th {\n",
       "        vertical-align: top;\n",
       "    }\n",
       "\n",
       "    .dataframe thead th {\n",
       "        text-align: right;\n",
       "    }\n",
       "</style>\n",
       "<table border=\"1\" class=\"dataframe\">\n",
       "  <thead>\n",
       "    <tr style=\"text-align: right;\">\n",
       "      <th></th>\n",
       "      <th>Name</th>\n",
       "      <th>Age</th>\n",
       "    </tr>\n",
       "  </thead>\n",
       "  <tbody>\n",
       "    <tr>\n",
       "      <th>0</th>\n",
       "      <td>Tamanna</td>\n",
       "      <td>24</td>\n",
       "    </tr>\n",
       "    <tr>\n",
       "      <th>1</th>\n",
       "      <td>Faysal</td>\n",
       "      <td>27</td>\n",
       "    </tr>\n",
       "    <tr>\n",
       "      <th>2</th>\n",
       "      <td>Tarek</td>\n",
       "      <td>22</td>\n",
       "    </tr>\n",
       "    <tr>\n",
       "      <th>3</th>\n",
       "      <td>Raisa</td>\n",
       "      <td>32</td>\n",
       "    </tr>\n",
       "    <tr>\n",
       "      <th>4</th>\n",
       "      <td>Imtiaz</td>\n",
       "      <td>24</td>\n",
       "    </tr>\n",
       "    <tr>\n",
       "      <th>5</th>\n",
       "      <td>Farah</td>\n",
       "      <td>22</td>\n",
       "    </tr>\n",
       "  </tbody>\n",
       "</table>\n",
       "</div>"
      ],
      "text/plain": [
       "      Name  Age\n",
       "0  Tamanna   24\n",
       "1   Faysal   27\n",
       "2    Tarek   22\n",
       "3    Raisa   32\n",
       "4   Imtiaz   24\n",
       "5    Farah   22"
      ]
     },
     "execution_count": 77,
     "metadata": {},
     "output_type": "execute_result"
    }
   ],
   "source": [
    "df[[\"Name\",\"Age\"]]"
   ]
  },
  {
   "cell_type": "code",
   "execution_count": 78,
   "metadata": {},
   "outputs": [
    {
     "data": {
      "text/html": [
       "<div>\n",
       "<style scoped>\n",
       "    .dataframe tbody tr th:only-of-type {\n",
       "        vertical-align: middle;\n",
       "    }\n",
       "\n",
       "    .dataframe tbody tr th {\n",
       "        vertical-align: top;\n",
       "    }\n",
       "\n",
       "    .dataframe thead th {\n",
       "        text-align: right;\n",
       "    }\n",
       "</style>\n",
       "<table border=\"1\" class=\"dataframe\">\n",
       "  <thead>\n",
       "    <tr style=\"text-align: right;\">\n",
       "      <th></th>\n",
       "      <th>Name</th>\n",
       "      <th>Age</th>\n",
       "      <th>City</th>\n",
       "      <th>Score</th>\n",
       "      <th>Area</th>\n",
       "    </tr>\n",
       "  </thead>\n",
       "  <tbody>\n",
       "    <tr>\n",
       "      <th>0</th>\n",
       "      <td>Tamanna</td>\n",
       "      <td>24</td>\n",
       "      <td>Dhaka</td>\n",
       "      <td>85</td>\n",
       "      <td>Mirpur</td>\n",
       "    </tr>\n",
       "    <tr>\n",
       "      <th>1</th>\n",
       "      <td>Faysal</td>\n",
       "      <td>27</td>\n",
       "      <td>Sylhet</td>\n",
       "      <td>95</td>\n",
       "      <td>Moulvibazar</td>\n",
       "    </tr>\n",
       "    <tr>\n",
       "      <th>2</th>\n",
       "      <td>Tarek</td>\n",
       "      <td>22</td>\n",
       "      <td>Dhaka</td>\n",
       "      <td>78</td>\n",
       "      <td>Uttara</td>\n",
       "    </tr>\n",
       "    <tr>\n",
       "      <th>3</th>\n",
       "      <td>Raisa</td>\n",
       "      <td>32</td>\n",
       "      <td>Khulna</td>\n",
       "      <td>90</td>\n",
       "      <td>Jessore</td>\n",
       "    </tr>\n",
       "    <tr>\n",
       "      <th>4</th>\n",
       "      <td>Imtiaz</td>\n",
       "      <td>24</td>\n",
       "      <td>Rajshahi</td>\n",
       "      <td>88</td>\n",
       "      <td>Pabna</td>\n",
       "    </tr>\n",
       "    <tr>\n",
       "      <th>5</th>\n",
       "      <td>Farah</td>\n",
       "      <td>22</td>\n",
       "      <td>Sylhet</td>\n",
       "      <td>84</td>\n",
       "      <td>Sunamganj</td>\n",
       "    </tr>\n",
       "  </tbody>\n",
       "</table>\n",
       "</div>"
      ],
      "text/plain": [
       "      Name  Age      City  Score         Area\n",
       "0  Tamanna   24     Dhaka     85       Mirpur\n",
       "1   Faysal   27    Sylhet     95  Moulvibazar\n",
       "2    Tarek   22     Dhaka     78       Uttara\n",
       "3    Raisa   32    Khulna     90      Jessore\n",
       "4   Imtiaz   24  Rajshahi     88        Pabna\n",
       "5    Farah   22    Sylhet     84    Sunamganj"
      ]
     },
     "execution_count": 78,
     "metadata": {},
     "output_type": "execute_result"
    }
   ],
   "source": [
    "df['Area'] = ['Mirpur', 'Moulvibazar', 'Uttara', 'Jessore', 'Pabna', 'Sunamganj']\n",
    "df"
   ]
  },
  {
   "cell_type": "code",
   "execution_count": 79,
   "metadata": {},
   "outputs": [
    {
     "data": {
      "text/html": [
       "<div>\n",
       "<style scoped>\n",
       "    .dataframe tbody tr th:only-of-type {\n",
       "        vertical-align: middle;\n",
       "    }\n",
       "\n",
       "    .dataframe tbody tr th {\n",
       "        vertical-align: top;\n",
       "    }\n",
       "\n",
       "    .dataframe thead th {\n",
       "        text-align: right;\n",
       "    }\n",
       "</style>\n",
       "<table border=\"1\" class=\"dataframe\">\n",
       "  <thead>\n",
       "    <tr style=\"text-align: right;\">\n",
       "      <th></th>\n",
       "      <th>Name</th>\n",
       "      <th>City</th>\n",
       "      <th>Area</th>\n",
       "    </tr>\n",
       "  </thead>\n",
       "  <tbody>\n",
       "    <tr>\n",
       "      <th>0</th>\n",
       "      <td>Tamanna</td>\n",
       "      <td>Dhaka</td>\n",
       "      <td>Mirpur</td>\n",
       "    </tr>\n",
       "    <tr>\n",
       "      <th>1</th>\n",
       "      <td>Faysal</td>\n",
       "      <td>Sylhet</td>\n",
       "      <td>Moulvibazar</td>\n",
       "    </tr>\n",
       "    <tr>\n",
       "      <th>2</th>\n",
       "      <td>Tarek</td>\n",
       "      <td>Dhaka</td>\n",
       "      <td>Uttara</td>\n",
       "    </tr>\n",
       "    <tr>\n",
       "      <th>3</th>\n",
       "      <td>Raisa</td>\n",
       "      <td>Khulna</td>\n",
       "      <td>Jessore</td>\n",
       "    </tr>\n",
       "    <tr>\n",
       "      <th>4</th>\n",
       "      <td>Imtiaz</td>\n",
       "      <td>Rajshahi</td>\n",
       "      <td>Pabna</td>\n",
       "    </tr>\n",
       "    <tr>\n",
       "      <th>5</th>\n",
       "      <td>Farah</td>\n",
       "      <td>Sylhet</td>\n",
       "      <td>Sunamganj</td>\n",
       "    </tr>\n",
       "  </tbody>\n",
       "</table>\n",
       "</div>"
      ],
      "text/plain": [
       "      Name      City         Area\n",
       "0  Tamanna     Dhaka       Mirpur\n",
       "1   Faysal    Sylhet  Moulvibazar\n",
       "2    Tarek     Dhaka       Uttara\n",
       "3    Raisa    Khulna      Jessore\n",
       "4   Imtiaz  Rajshahi        Pabna\n",
       "5    Farah    Sylhet    Sunamganj"
      ]
     },
     "execution_count": 79,
     "metadata": {},
     "output_type": "execute_result"
    }
   ],
   "source": [
    "df[[\"Name\", \"City\", \"Area\"]]"
   ]
  },
  {
   "cell_type": "markdown",
   "metadata": {},
   "source": [
    "## Working with the Rows\n",
    "\n",
    "df[ start : end ]"
   ]
  },
  {
   "cell_type": "code",
   "execution_count": 80,
   "metadata": {},
   "outputs": [
    {
     "data": {
      "text/html": [
       "<div>\n",
       "<style scoped>\n",
       "    .dataframe tbody tr th:only-of-type {\n",
       "        vertical-align: middle;\n",
       "    }\n",
       "\n",
       "    .dataframe tbody tr th {\n",
       "        vertical-align: top;\n",
       "    }\n",
       "\n",
       "    .dataframe thead th {\n",
       "        text-align: right;\n",
       "    }\n",
       "</style>\n",
       "<table border=\"1\" class=\"dataframe\">\n",
       "  <thead>\n",
       "    <tr style=\"text-align: right;\">\n",
       "      <th></th>\n",
       "      <th>Name</th>\n",
       "      <th>Age</th>\n",
       "      <th>City</th>\n",
       "      <th>Score</th>\n",
       "      <th>Area</th>\n",
       "    </tr>\n",
       "  </thead>\n",
       "  <tbody>\n",
       "    <tr>\n",
       "      <th>2</th>\n",
       "      <td>Tarek</td>\n",
       "      <td>22</td>\n",
       "      <td>Dhaka</td>\n",
       "      <td>78</td>\n",
       "      <td>Uttara</td>\n",
       "    </tr>\n",
       "    <tr>\n",
       "      <th>3</th>\n",
       "      <td>Raisa</td>\n",
       "      <td>32</td>\n",
       "      <td>Khulna</td>\n",
       "      <td>90</td>\n",
       "      <td>Jessore</td>\n",
       "    </tr>\n",
       "  </tbody>\n",
       "</table>\n",
       "</div>"
      ],
      "text/plain": [
       "    Name  Age    City  Score     Area\n",
       "2  Tarek   22   Dhaka     78   Uttara\n",
       "3  Raisa   32  Khulna     90  Jessore"
      ]
     },
     "execution_count": 80,
     "metadata": {},
     "output_type": "execute_result"
    }
   ],
   "source": [
    "df[2 : 4]"
   ]
  },
  {
   "cell_type": "code",
   "execution_count": 81,
   "metadata": {},
   "outputs": [
    {
     "data": {
      "text/html": [
       "<div>\n",
       "<style scoped>\n",
       "    .dataframe tbody tr th:only-of-type {\n",
       "        vertical-align: middle;\n",
       "    }\n",
       "\n",
       "    .dataframe tbody tr th {\n",
       "        vertical-align: top;\n",
       "    }\n",
       "\n",
       "    .dataframe thead th {\n",
       "        text-align: right;\n",
       "    }\n",
       "</style>\n",
       "<table border=\"1\" class=\"dataframe\">\n",
       "  <thead>\n",
       "    <tr style=\"text-align: right;\">\n",
       "      <th></th>\n",
       "      <th>Name</th>\n",
       "      <th>Age</th>\n",
       "      <th>City</th>\n",
       "      <th>Score</th>\n",
       "      <th>Area</th>\n",
       "    </tr>\n",
       "  </thead>\n",
       "  <tbody>\n",
       "    <tr>\n",
       "      <th>0</th>\n",
       "      <td>Tamanna</td>\n",
       "      <td>24</td>\n",
       "      <td>Dhaka</td>\n",
       "      <td>85</td>\n",
       "      <td>Mirpur</td>\n",
       "    </tr>\n",
       "    <tr>\n",
       "      <th>1</th>\n",
       "      <td>Faysal</td>\n",
       "      <td>27</td>\n",
       "      <td>Sylhet</td>\n",
       "      <td>95</td>\n",
       "      <td>Moulvibazar</td>\n",
       "    </tr>\n",
       "    <tr>\n",
       "      <th>2</th>\n",
       "      <td>Tarek</td>\n",
       "      <td>22</td>\n",
       "      <td>Dhaka</td>\n",
       "      <td>78</td>\n",
       "      <td>Uttara</td>\n",
       "    </tr>\n",
       "    <tr>\n",
       "      <th>3</th>\n",
       "      <td>Raisa</td>\n",
       "      <td>32</td>\n",
       "      <td>Khulna</td>\n",
       "      <td>90</td>\n",
       "      <td>Jessore</td>\n",
       "    </tr>\n",
       "    <tr>\n",
       "      <th>4</th>\n",
       "      <td>Imtiaz</td>\n",
       "      <td>24</td>\n",
       "      <td>Rajshahi</td>\n",
       "      <td>88</td>\n",
       "      <td>Pabna</td>\n",
       "    </tr>\n",
       "  </tbody>\n",
       "</table>\n",
       "</div>"
      ],
      "text/plain": [
       "      Name  Age      City  Score         Area\n",
       "0  Tamanna   24     Dhaka     85       Mirpur\n",
       "1   Faysal   27    Sylhet     95  Moulvibazar\n",
       "2    Tarek   22     Dhaka     78       Uttara\n",
       "3    Raisa   32    Khulna     90      Jessore\n",
       "4   Imtiaz   24  Rajshahi     88        Pabna"
      ]
     },
     "execution_count": 81,
     "metadata": {},
     "output_type": "execute_result"
    }
   ],
   "source": [
    "df[0:5]"
   ]
  },
  {
   "cell_type": "code",
   "execution_count": 82,
   "metadata": {},
   "outputs": [
    {
     "data": {
      "text/plain": [
       "'Raisa'"
      ]
     },
     "execution_count": 82,
     "metadata": {},
     "output_type": "execute_result"
    }
   ],
   "source": [
    "df[\"Name\"].iloc[3]"
   ]
  },
  {
   "cell_type": "code",
   "execution_count": 83,
   "metadata": {},
   "outputs": [
    {
     "data": {
      "text/plain": [
       "Name     Raisa\n",
       "Score       90\n",
       "Name: 3, dtype: object"
      ]
     },
     "execution_count": 83,
     "metadata": {},
     "output_type": "execute_result"
    }
   ],
   "source": [
    "df[[\"Name\", \"Score\"]].iloc[3]"
   ]
  },
  {
   "cell_type": "code",
   "execution_count": 84,
   "metadata": {},
   "outputs": [
    {
     "data": {
      "text/plain": [
       "Name      Raisa\n",
       "City     Khulna\n",
       "Area    Jessore\n",
       "Name: 3, dtype: object"
      ]
     },
     "execution_count": 84,
     "metadata": {},
     "output_type": "execute_result"
    }
   ],
   "source": [
    "df[[\"Name\", \"City\", \"Area\"]].iloc[3]"
   ]
  },
  {
   "cell_type": "code",
   "execution_count": 85,
   "metadata": {},
   "outputs": [
    {
     "data": {
      "text/html": [
       "<div>\n",
       "<style scoped>\n",
       "    .dataframe tbody tr th:only-of-type {\n",
       "        vertical-align: middle;\n",
       "    }\n",
       "\n",
       "    .dataframe tbody tr th {\n",
       "        vertical-align: top;\n",
       "    }\n",
       "\n",
       "    .dataframe thead th {\n",
       "        text-align: right;\n",
       "    }\n",
       "</style>\n",
       "<table border=\"1\" class=\"dataframe\">\n",
       "  <thead>\n",
       "    <tr style=\"text-align: right;\">\n",
       "      <th></th>\n",
       "      <th>Name</th>\n",
       "      <th>Age</th>\n",
       "      <th>City</th>\n",
       "      <th>Score</th>\n",
       "      <th>Area</th>\n",
       "      <th>Job</th>\n",
       "    </tr>\n",
       "  </thead>\n",
       "  <tbody>\n",
       "    <tr>\n",
       "      <th>0</th>\n",
       "      <td>Tamanna</td>\n",
       "      <td>24</td>\n",
       "      <td>Dhaka</td>\n",
       "      <td>85</td>\n",
       "      <td>Mirpur</td>\n",
       "      <td>Teacher</td>\n",
       "    </tr>\n",
       "    <tr>\n",
       "      <th>1</th>\n",
       "      <td>Faysal</td>\n",
       "      <td>27</td>\n",
       "      <td>Sylhet</td>\n",
       "      <td>95</td>\n",
       "      <td>Moulvibazar</td>\n",
       "      <td>Doctor</td>\n",
       "    </tr>\n",
       "    <tr>\n",
       "      <th>2</th>\n",
       "      <td>Tarek</td>\n",
       "      <td>22</td>\n",
       "      <td>Dhaka</td>\n",
       "      <td>78</td>\n",
       "      <td>Uttara</td>\n",
       "      <td>Teacher</td>\n",
       "    </tr>\n",
       "    <tr>\n",
       "      <th>3</th>\n",
       "      <td>Raisa</td>\n",
       "      <td>32</td>\n",
       "      <td>Khulna</td>\n",
       "      <td>90</td>\n",
       "      <td>Jessore</td>\n",
       "      <td>Pilot</td>\n",
       "    </tr>\n",
       "    <tr>\n",
       "      <th>4</th>\n",
       "      <td>Imtiaz</td>\n",
       "      <td>24</td>\n",
       "      <td>Rajshahi</td>\n",
       "      <td>88</td>\n",
       "      <td>Pabna</td>\n",
       "      <td>Markter</td>\n",
       "    </tr>\n",
       "    <tr>\n",
       "      <th>5</th>\n",
       "      <td>Farah</td>\n",
       "      <td>22</td>\n",
       "      <td>Sylhet</td>\n",
       "      <td>84</td>\n",
       "      <td>Sunamganj</td>\n",
       "      <td>Teacher</td>\n",
       "    </tr>\n",
       "  </tbody>\n",
       "</table>\n",
       "</div>"
      ],
      "text/plain": [
       "      Name  Age      City  Score         Area      Job\n",
       "0  Tamanna   24     Dhaka     85       Mirpur  Teacher\n",
       "1   Faysal   27    Sylhet     95  Moulvibazar   Doctor\n",
       "2    Tarek   22     Dhaka     78       Uttara  Teacher\n",
       "3    Raisa   32    Khulna     90      Jessore    Pilot\n",
       "4   Imtiaz   24  Rajshahi     88        Pabna  Markter\n",
       "5    Farah   22    Sylhet     84    Sunamganj  Teacher"
      ]
     },
     "execution_count": 85,
     "metadata": {},
     "output_type": "execute_result"
    }
   ],
   "source": [
    "df['Job'] = ['Teacher', 'Doctor', 'Teacher', 'Pilot', 'Markter', 'Teacher']\n",
    "df"
   ]
  },
  {
   "cell_type": "code",
   "execution_count": 86,
   "metadata": {},
   "outputs": [
    {
     "data": {
      "text/plain": [
       "Name      Imtiaz\n",
       "City    Rajshahi\n",
       "Area       Pabna\n",
       "Job      Markter\n",
       "Name: 4, dtype: object"
      ]
     },
     "execution_count": 86,
     "metadata": {},
     "output_type": "execute_result"
    }
   ],
   "source": [
    "df[[\"Name\", \"City\", \"Area\", \"Job\"]].iloc[4]"
   ]
  },
  {
   "cell_type": "code",
   "execution_count": 87,
   "metadata": {},
   "outputs": [
    {
     "name": "stdout",
     "output_type": "stream",
     "text": [
      "<class 'pandas.core.frame.DataFrame'>\n",
      "RangeIndex: 6 entries, 0 to 5\n",
      "Data columns (total 6 columns):\n",
      " #   Column  Non-Null Count  Dtype \n",
      "---  ------  --------------  ----- \n",
      " 0   Name    6 non-null      object\n",
      " 1   Age     6 non-null      int64 \n",
      " 2   City    6 non-null      object\n",
      " 3   Score   6 non-null      int64 \n",
      " 4   Area    6 non-null      object\n",
      " 5   Job     6 non-null      object\n",
      "dtypes: int64(2), object(4)\n",
      "memory usage: 420.0+ bytes\n"
     ]
    }
   ],
   "source": [
    "df.info()"
   ]
  },
  {
   "cell_type": "code",
   "execution_count": 88,
   "metadata": {},
   "outputs": [
    {
     "data": {
      "text/plain": [
       "np.float64(25.166666666666668)"
      ]
     },
     "execution_count": 88,
     "metadata": {},
     "output_type": "execute_result"
    }
   ],
   "source": [
    "df['Age'].mean()"
   ]
  },
  {
   "cell_type": "code",
   "execution_count": 89,
   "metadata": {},
   "outputs": [
    {
     "data": {
      "text/plain": [
       "np.int64(32)"
      ]
     },
     "execution_count": 89,
     "metadata": {},
     "output_type": "execute_result"
    }
   ],
   "source": [
    "df.Age.max()"
   ]
  },
  {
   "cell_type": "code",
   "execution_count": 90,
   "metadata": {},
   "outputs": [
    {
     "data": {
      "text/plain": [
       "np.int64(22)"
      ]
     },
     "execution_count": 90,
     "metadata": {},
     "output_type": "execute_result"
    }
   ],
   "source": [
    "df.Age.min()"
   ]
  },
  {
   "cell_type": "code",
   "execution_count": 91,
   "metadata": {},
   "outputs": [
    {
     "data": {
      "text/html": [
       "<div>\n",
       "<style scoped>\n",
       "    .dataframe tbody tr th:only-of-type {\n",
       "        vertical-align: middle;\n",
       "    }\n",
       "\n",
       "    .dataframe tbody tr th {\n",
       "        vertical-align: top;\n",
       "    }\n",
       "\n",
       "    .dataframe thead th {\n",
       "        text-align: right;\n",
       "    }\n",
       "</style>\n",
       "<table border=\"1\" class=\"dataframe\">\n",
       "  <thead>\n",
       "    <tr style=\"text-align: right;\">\n",
       "      <th></th>\n",
       "      <th>Name</th>\n",
       "      <th>Age</th>\n",
       "      <th>City</th>\n",
       "      <th>Score</th>\n",
       "      <th>Area</th>\n",
       "      <th>Job</th>\n",
       "    </tr>\n",
       "  </thead>\n",
       "  <tbody>\n",
       "    <tr>\n",
       "      <th>1</th>\n",
       "      <td>Faysal</td>\n",
       "      <td>27</td>\n",
       "      <td>Sylhet</td>\n",
       "      <td>95</td>\n",
       "      <td>Moulvibazar</td>\n",
       "      <td>Doctor</td>\n",
       "    </tr>\n",
       "    <tr>\n",
       "      <th>3</th>\n",
       "      <td>Raisa</td>\n",
       "      <td>32</td>\n",
       "      <td>Khulna</td>\n",
       "      <td>90</td>\n",
       "      <td>Jessore</td>\n",
       "      <td>Pilot</td>\n",
       "    </tr>\n",
       "  </tbody>\n",
       "</table>\n",
       "</div>"
      ],
      "text/plain": [
       "     Name  Age    City  Score         Area     Job\n",
       "1  Faysal   27  Sylhet     95  Moulvibazar  Doctor\n",
       "3   Raisa   32  Khulna     90      Jessore   Pilot"
      ]
     },
     "execution_count": 91,
     "metadata": {},
     "output_type": "execute_result"
    }
   ],
   "source": [
    "df[df[\"Age\"] > 25]"
   ]
  },
  {
   "cell_type": "code",
   "execution_count": 92,
   "metadata": {},
   "outputs": [
    {
     "data": {
      "text/plain": [
       "np.int64(95)"
      ]
     },
     "execution_count": 92,
     "metadata": {},
     "output_type": "execute_result"
    }
   ],
   "source": [
    "df.Score.max()"
   ]
  },
  {
   "cell_type": "code",
   "execution_count": 93,
   "metadata": {},
   "outputs": [
    {
     "data": {
      "text/plain": [
       "np.int64(78)"
      ]
     },
     "execution_count": 93,
     "metadata": {},
     "output_type": "execute_result"
    }
   ],
   "source": [
    "df.Score.min()"
   ]
  },
  {
   "cell_type": "code",
   "execution_count": 94,
   "metadata": {},
   "outputs": [
    {
     "data": {
      "text/html": [
       "<div>\n",
       "<style scoped>\n",
       "    .dataframe tbody tr th:only-of-type {\n",
       "        vertical-align: middle;\n",
       "    }\n",
       "\n",
       "    .dataframe tbody tr th {\n",
       "        vertical-align: top;\n",
       "    }\n",
       "\n",
       "    .dataframe thead th {\n",
       "        text-align: right;\n",
       "    }\n",
       "</style>\n",
       "<table border=\"1\" class=\"dataframe\">\n",
       "  <thead>\n",
       "    <tr style=\"text-align: right;\">\n",
       "      <th></th>\n",
       "      <th>Name</th>\n",
       "      <th>Age</th>\n",
       "      <th>City</th>\n",
       "      <th>Score</th>\n",
       "      <th>Area</th>\n",
       "      <th>Job</th>\n",
       "    </tr>\n",
       "  </thead>\n",
       "  <tbody>\n",
       "    <tr>\n",
       "      <th>0</th>\n",
       "      <td>Tamanna</td>\n",
       "      <td>24</td>\n",
       "      <td>Dhaka</td>\n",
       "      <td>85</td>\n",
       "      <td>Mirpur</td>\n",
       "      <td>Teacher</td>\n",
       "    </tr>\n",
       "    <tr>\n",
       "      <th>2</th>\n",
       "      <td>Tarek</td>\n",
       "      <td>22</td>\n",
       "      <td>Dhaka</td>\n",
       "      <td>78</td>\n",
       "      <td>Uttara</td>\n",
       "      <td>Teacher</td>\n",
       "    </tr>\n",
       "    <tr>\n",
       "      <th>4</th>\n",
       "      <td>Imtiaz</td>\n",
       "      <td>24</td>\n",
       "      <td>Rajshahi</td>\n",
       "      <td>88</td>\n",
       "      <td>Pabna</td>\n",
       "      <td>Markter</td>\n",
       "    </tr>\n",
       "    <tr>\n",
       "      <th>5</th>\n",
       "      <td>Farah</td>\n",
       "      <td>22</td>\n",
       "      <td>Sylhet</td>\n",
       "      <td>84</td>\n",
       "      <td>Sunamganj</td>\n",
       "      <td>Teacher</td>\n",
       "    </tr>\n",
       "  </tbody>\n",
       "</table>\n",
       "</div>"
      ],
      "text/plain": [
       "      Name  Age      City  Score       Area      Job\n",
       "0  Tamanna   24     Dhaka     85     Mirpur  Teacher\n",
       "2    Tarek   22     Dhaka     78     Uttara  Teacher\n",
       "4   Imtiaz   24  Rajshahi     88      Pabna  Markter\n",
       "5    Farah   22    Sylhet     84  Sunamganj  Teacher"
      ]
     },
     "execution_count": 94,
     "metadata": {},
     "output_type": "execute_result"
    }
   ],
   "source": [
    "df[df[\"Score\"] < 90]"
   ]
  },
  {
   "cell_type": "code",
   "execution_count": 95,
   "metadata": {},
   "outputs": [
    {
     "data": {
      "text/html": [
       "<div>\n",
       "<style scoped>\n",
       "    .dataframe tbody tr th:only-of-type {\n",
       "        vertical-align: middle;\n",
       "    }\n",
       "\n",
       "    .dataframe tbody tr th {\n",
       "        vertical-align: top;\n",
       "    }\n",
       "\n",
       "    .dataframe thead th {\n",
       "        text-align: right;\n",
       "    }\n",
       "</style>\n",
       "<table border=\"1\" class=\"dataframe\">\n",
       "  <thead>\n",
       "    <tr style=\"text-align: right;\">\n",
       "      <th></th>\n",
       "      <th>Name</th>\n",
       "      <th>Age</th>\n",
       "      <th>City</th>\n",
       "      <th>Score</th>\n",
       "      <th>Area</th>\n",
       "      <th>Job</th>\n",
       "    </tr>\n",
       "  </thead>\n",
       "  <tbody>\n",
       "    <tr>\n",
       "      <th>0</th>\n",
       "      <td>Tamanna</td>\n",
       "      <td>24</td>\n",
       "      <td>Dhaka</td>\n",
       "      <td>85</td>\n",
       "      <td>Mirpur</td>\n",
       "      <td>Teacher</td>\n",
       "    </tr>\n",
       "  </tbody>\n",
       "</table>\n",
       "</div>"
      ],
      "text/plain": [
       "      Name  Age   City  Score    Area      Job\n",
       "0  Tamanna   24  Dhaka     85  Mirpur  Teacher"
      ]
     },
     "execution_count": 95,
     "metadata": {},
     "output_type": "execute_result"
    }
   ],
   "source": [
    "df[df[\"Area\"] == 'Mirpur']"
   ]
  },
  {
   "cell_type": "code",
   "execution_count": 96,
   "metadata": {},
   "outputs": [
    {
     "data": {
      "text/html": [
       "<div>\n",
       "<style scoped>\n",
       "    .dataframe tbody tr th:only-of-type {\n",
       "        vertical-align: middle;\n",
       "    }\n",
       "\n",
       "    .dataframe tbody tr th {\n",
       "        vertical-align: top;\n",
       "    }\n",
       "\n",
       "    .dataframe thead th {\n",
       "        text-align: right;\n",
       "    }\n",
       "</style>\n",
       "<table border=\"1\" class=\"dataframe\">\n",
       "  <thead>\n",
       "    <tr style=\"text-align: right;\">\n",
       "      <th></th>\n",
       "      <th>Name</th>\n",
       "      <th>Age</th>\n",
       "      <th>City</th>\n",
       "      <th>Score</th>\n",
       "      <th>Area</th>\n",
       "      <th>Job</th>\n",
       "    </tr>\n",
       "  </thead>\n",
       "  <tbody>\n",
       "  </tbody>\n",
       "</table>\n",
       "</div>"
      ],
      "text/plain": [
       "Empty DataFrame\n",
       "Columns: [Name, Age, City, Score, Area, Job]\n",
       "Index: []"
      ]
     },
     "execution_count": 96,
     "metadata": {},
     "output_type": "execute_result"
    }
   ],
   "source": [
    "df[df[\"City\"] == 'Sylthet']"
   ]
  },
  {
   "cell_type": "code",
   "execution_count": 97,
   "metadata": {},
   "outputs": [
    {
     "data": {
      "text/html": [
       "<div>\n",
       "<style scoped>\n",
       "    .dataframe tbody tr th:only-of-type {\n",
       "        vertical-align: middle;\n",
       "    }\n",
       "\n",
       "    .dataframe tbody tr th {\n",
       "        vertical-align: top;\n",
       "    }\n",
       "\n",
       "    .dataframe thead th {\n",
       "        text-align: right;\n",
       "    }\n",
       "</style>\n",
       "<table border=\"1\" class=\"dataframe\">\n",
       "  <thead>\n",
       "    <tr style=\"text-align: right;\">\n",
       "      <th></th>\n",
       "      <th>Name</th>\n",
       "      <th>Age</th>\n",
       "      <th>City</th>\n",
       "      <th>Score</th>\n",
       "      <th>Area</th>\n",
       "      <th>Job</th>\n",
       "    </tr>\n",
       "  </thead>\n",
       "  <tbody>\n",
       "    <tr>\n",
       "      <th>0</th>\n",
       "      <td>Tamanna</td>\n",
       "      <td>24</td>\n",
       "      <td>Dhaka</td>\n",
       "      <td>85</td>\n",
       "      <td>Mirpur</td>\n",
       "      <td>Teacher</td>\n",
       "    </tr>\n",
       "    <tr>\n",
       "      <th>1</th>\n",
       "      <td>Faysal</td>\n",
       "      <td>27</td>\n",
       "      <td>Sylhet</td>\n",
       "      <td>95</td>\n",
       "      <td>Moulvibazar</td>\n",
       "      <td>Doctor</td>\n",
       "    </tr>\n",
       "    <tr>\n",
       "      <th>2</th>\n",
       "      <td>Tarek</td>\n",
       "      <td>22</td>\n",
       "      <td>Dhaka</td>\n",
       "      <td>78</td>\n",
       "      <td>Uttara</td>\n",
       "      <td>Teacher</td>\n",
       "    </tr>\n",
       "    <tr>\n",
       "      <th>3</th>\n",
       "      <td>Raisa</td>\n",
       "      <td>32</td>\n",
       "      <td>Khulna</td>\n",
       "      <td>90</td>\n",
       "      <td>Jessore</td>\n",
       "      <td>Pilot</td>\n",
       "    </tr>\n",
       "    <tr>\n",
       "      <th>4</th>\n",
       "      <td>Imtiaz</td>\n",
       "      <td>24</td>\n",
       "      <td>Rajshahi</td>\n",
       "      <td>88</td>\n",
       "      <td>Pabna</td>\n",
       "      <td>Markter</td>\n",
       "    </tr>\n",
       "    <tr>\n",
       "      <th>5</th>\n",
       "      <td>Farah</td>\n",
       "      <td>22</td>\n",
       "      <td>Sylhet</td>\n",
       "      <td>84</td>\n",
       "      <td>Sunamganj</td>\n",
       "      <td>Teacher</td>\n",
       "    </tr>\n",
       "  </tbody>\n",
       "</table>\n",
       "</div>"
      ],
      "text/plain": [
       "      Name  Age      City  Score         Area      Job\n",
       "0  Tamanna   24     Dhaka     85       Mirpur  Teacher\n",
       "1   Faysal   27    Sylhet     95  Moulvibazar   Doctor\n",
       "2    Tarek   22     Dhaka     78       Uttara  Teacher\n",
       "3    Raisa   32    Khulna     90      Jessore    Pilot\n",
       "4   Imtiaz   24  Rajshahi     88        Pabna  Markter\n",
       "5    Farah   22    Sylhet     84    Sunamganj  Teacher"
      ]
     },
     "execution_count": 97,
     "metadata": {},
     "output_type": "execute_result"
    }
   ],
   "source": [
    "df"
   ]
  },
  {
   "cell_type": "code",
   "execution_count": 99,
   "metadata": {},
   "outputs": [
    {
     "name": "stdout",
     "output_type": "stream",
     "text": [
      "<pandas.core.groupby.generic.DataFrameGroupBy object at 0x0000020FA5D09590>\n"
     ]
    },
    {
     "data": {
      "text/plain": [
       "City\n",
       "Dhaka       163\n",
       "Khulna       90\n",
       "Rajshahi     88\n",
       "Sylhet      179\n",
       "Name: Score, dtype: int64"
      ]
     },
     "execution_count": 99,
     "metadata": {},
     "output_type": "execute_result"
    }
   ],
   "source": [
    "grouped = df.groupby(\"City\")\n",
    "print(grouped)\n",
    "\n",
    "sum_score = grouped[\"Score\"].sum()\n",
    "sum_score"
   ]
  },
  {
   "cell_type": "code",
   "execution_count": 102,
   "metadata": {},
   "outputs": [
    {
     "data": {
      "text/plain": [
       "City\n",
       "Dhaka       85\n",
       "Khulna      90\n",
       "Rajshahi    88\n",
       "Sylhet      95\n",
       "Name: Score, dtype: int64"
      ]
     },
     "execution_count": 102,
     "metadata": {},
     "output_type": "execute_result"
    }
   ],
   "source": [
    "max_score = grouped[\"Score\"].max()\n",
    "max_score"
   ]
  },
  {
   "cell_type": "code",
   "execution_count": 103,
   "metadata": {},
   "outputs": [
    {
     "data": {
      "text/plain": [
       "City\n",
       "Dhaka       78\n",
       "Khulna      90\n",
       "Rajshahi    88\n",
       "Sylhet      84\n",
       "Name: Score, dtype: int64"
      ]
     },
     "execution_count": 103,
     "metadata": {},
     "output_type": "execute_result"
    }
   ],
   "source": [
    "min_score = grouped[\"Score\"].min()\n",
    "min_score"
   ]
  },
  {
   "cell_type": "markdown",
   "metadata": {},
   "source": [
    "## Looping over the groups"
   ]
  },
  {
   "cell_type": "code",
   "execution_count": 101,
   "metadata": {},
   "outputs": [
    {
     "name": "stdout",
     "output_type": "stream",
     "text": [
      "City: Dhaka\n",
      "      Name  Age   City  Score    Area      Job\n",
      "0  Tamanna   24  Dhaka     85  Mirpur  Teacher\n",
      "2    Tarek   22  Dhaka     78  Uttara  Teacher\n",
      "------\n",
      "\n",
      "City: Khulna\n",
      "    Name  Age    City  Score     Area    Job\n",
      "3  Raisa   32  Khulna     90  Jessore  Pilot\n",
      "------\n",
      "\n",
      "City: Rajshahi\n",
      "     Name  Age      City  Score   Area      Job\n",
      "4  Imtiaz   24  Rajshahi     88  Pabna  Markter\n",
      "------\n",
      "\n",
      "City: Sylhet\n",
      "     Name  Age    City  Score         Area      Job\n",
      "1  Faysal   27  Sylhet     95  Moulvibazar   Doctor\n",
      "5   Farah   22  Sylhet     84    Sunamganj  Teacher\n",
      "------\n",
      "\n"
     ]
    }
   ],
   "source": [
    "for name, group in grouped:\n",
    "    print(f\"City: {name}\")\n",
    "    print(group)\n",
    "    print(\"------\\n\")"
   ]
  },
  {
   "cell_type": "code",
   "execution_count": 104,
   "metadata": {},
   "outputs": [
    {
     "name": "stdout",
     "output_type": "stream",
     "text": [
      "Score: Dhaka\n",
      "      Name  Age   City  Score    Area      Job\n",
      "0  Tamanna   24  Dhaka     85  Mirpur  Teacher\n",
      "2    Tarek   22  Dhaka     78  Uttara  Teacher\n",
      "------\n",
      "\n",
      "Score: Khulna\n",
      "    Name  Age    City  Score     Area    Job\n",
      "3  Raisa   32  Khulna     90  Jessore  Pilot\n",
      "------\n",
      "\n",
      "Score: Rajshahi\n",
      "     Name  Age      City  Score   Area      Job\n",
      "4  Imtiaz   24  Rajshahi     88  Pabna  Markter\n",
      "------\n",
      "\n",
      "Score: Sylhet\n",
      "     Name  Age    City  Score         Area      Job\n",
      "1  Faysal   27  Sylhet     95  Moulvibazar   Doctor\n",
      "5   Farah   22  Sylhet     84    Sunamganj  Teacher\n",
      "------\n",
      "\n"
     ]
    }
   ],
   "source": [
    "for name, group in grouped:\n",
    "    print(f\"Score: {name}\")\n",
    "    print(group)\n",
    "    print(\"------\\n\")"
   ]
  },
  {
   "cell_type": "code",
   "execution_count": 109,
   "metadata": {},
   "outputs": [
    {
     "data": {
      "text/html": [
       "<div>\n",
       "<style scoped>\n",
       "    .dataframe tbody tr th:only-of-type {\n",
       "        vertical-align: middle;\n",
       "    }\n",
       "\n",
       "    .dataframe tbody tr th {\n",
       "        vertical-align: top;\n",
       "    }\n",
       "\n",
       "    .dataframe thead th {\n",
       "        text-align: right;\n",
       "    }\n",
       "</style>\n",
       "<table border=\"1\" class=\"dataframe\">\n",
       "  <thead>\n",
       "    <tr style=\"text-align: right;\">\n",
       "      <th></th>\n",
       "      <th>mean</th>\n",
       "      <th>max</th>\n",
       "      <th>min</th>\n",
       "    </tr>\n",
       "    <tr>\n",
       "      <th>City</th>\n",
       "      <th></th>\n",
       "      <th></th>\n",
       "      <th></th>\n",
       "    </tr>\n",
       "  </thead>\n",
       "  <tbody>\n",
       "    <tr>\n",
       "      <th>Dhaka</th>\n",
       "      <td>81.5</td>\n",
       "      <td>85</td>\n",
       "      <td>78</td>\n",
       "    </tr>\n",
       "    <tr>\n",
       "      <th>Khulna</th>\n",
       "      <td>90.0</td>\n",
       "      <td>90</td>\n",
       "      <td>90</td>\n",
       "    </tr>\n",
       "    <tr>\n",
       "      <th>Rajshahi</th>\n",
       "      <td>88.0</td>\n",
       "      <td>88</td>\n",
       "      <td>88</td>\n",
       "    </tr>\n",
       "    <tr>\n",
       "      <th>Sylhet</th>\n",
       "      <td>89.5</td>\n",
       "      <td>95</td>\n",
       "      <td>84</td>\n",
       "    </tr>\n",
       "  </tbody>\n",
       "</table>\n",
       "</div>"
      ],
      "text/plain": [
       "          mean  max  min\n",
       "City                    \n",
       "Dhaka     81.5   85   78\n",
       "Khulna    90.0   90   90\n",
       "Rajshahi  88.0   88   88\n",
       "Sylhet    89.5   95   84"
      ]
     },
     "execution_count": 109,
     "metadata": {},
     "output_type": "execute_result"
    }
   ],
   "source": [
    "agg_result = df.groupby('City')['Score'].agg(['mean', 'max', 'min'])\n",
    "agg_result"
   ]
  },
  {
   "cell_type": "markdown",
   "metadata": {},
   "source": [
    "## Apply"
   ]
  },
  {
   "cell_type": "markdown",
   "metadata": {},
   "source": [
    "In pandas, the apply function is used to apply a function along an axis of a DataFrame or specific groups within a DataFrame."
   ]
  },
  {
   "cell_type": "code",
   "execution_count": 110,
   "metadata": {},
   "outputs": [
    {
     "name": "stderr",
     "output_type": "stream",
     "text": [
      "C:\\Users\\USER\\AppData\\Local\\Temp\\ipykernel_11192\\1675888640.py:4: DeprecationWarning: DataFrameGroupBy.apply operated on the grouping columns. This behavior is deprecated, and in a future version of pandas the grouping columns will be excluded from the operation. Either pass `include_groups=False` to exclude the groupings or explicitly select the grouping columns after groupby to silence this warning.\n",
      "  result = df.groupby(\"Age\").apply(top)\n"
     ]
    },
    {
     "data": {
      "text/html": [
       "<div>\n",
       "<style scoped>\n",
       "    .dataframe tbody tr th:only-of-type {\n",
       "        vertical-align: middle;\n",
       "    }\n",
       "\n",
       "    .dataframe tbody tr th {\n",
       "        vertical-align: top;\n",
       "    }\n",
       "\n",
       "    .dataframe thead th {\n",
       "        text-align: right;\n",
       "    }\n",
       "</style>\n",
       "<table border=\"1\" class=\"dataframe\">\n",
       "  <thead>\n",
       "    <tr style=\"text-align: right;\">\n",
       "      <th></th>\n",
       "      <th></th>\n",
       "      <th>Name</th>\n",
       "      <th>Age</th>\n",
       "      <th>City</th>\n",
       "      <th>Score</th>\n",
       "      <th>Area</th>\n",
       "      <th>Job</th>\n",
       "    </tr>\n",
       "    <tr>\n",
       "      <th>Age</th>\n",
       "      <th></th>\n",
       "      <th></th>\n",
       "      <th></th>\n",
       "      <th></th>\n",
       "      <th></th>\n",
       "      <th></th>\n",
       "      <th></th>\n",
       "    </tr>\n",
       "  </thead>\n",
       "  <tbody>\n",
       "    <tr>\n",
       "      <th rowspan=\"2\" valign=\"top\">22</th>\n",
       "      <th>5</th>\n",
       "      <td>Farah</td>\n",
       "      <td>22</td>\n",
       "      <td>Sylhet</td>\n",
       "      <td>84</td>\n",
       "      <td>Sunamganj</td>\n",
       "      <td>Teacher</td>\n",
       "    </tr>\n",
       "    <tr>\n",
       "      <th>2</th>\n",
       "      <td>Tarek</td>\n",
       "      <td>22</td>\n",
       "      <td>Dhaka</td>\n",
       "      <td>78</td>\n",
       "      <td>Uttara</td>\n",
       "      <td>Teacher</td>\n",
       "    </tr>\n",
       "    <tr>\n",
       "      <th rowspan=\"2\" valign=\"top\">24</th>\n",
       "      <th>4</th>\n",
       "      <td>Imtiaz</td>\n",
       "      <td>24</td>\n",
       "      <td>Rajshahi</td>\n",
       "      <td>88</td>\n",
       "      <td>Pabna</td>\n",
       "      <td>Markter</td>\n",
       "    </tr>\n",
       "    <tr>\n",
       "      <th>0</th>\n",
       "      <td>Tamanna</td>\n",
       "      <td>24</td>\n",
       "      <td>Dhaka</td>\n",
       "      <td>85</td>\n",
       "      <td>Mirpur</td>\n",
       "      <td>Teacher</td>\n",
       "    </tr>\n",
       "    <tr>\n",
       "      <th>27</th>\n",
       "      <th>1</th>\n",
       "      <td>Faysal</td>\n",
       "      <td>27</td>\n",
       "      <td>Sylhet</td>\n",
       "      <td>95</td>\n",
       "      <td>Moulvibazar</td>\n",
       "      <td>Doctor</td>\n",
       "    </tr>\n",
       "    <tr>\n",
       "      <th>32</th>\n",
       "      <th>3</th>\n",
       "      <td>Raisa</td>\n",
       "      <td>32</td>\n",
       "      <td>Khulna</td>\n",
       "      <td>90</td>\n",
       "      <td>Jessore</td>\n",
       "      <td>Pilot</td>\n",
       "    </tr>\n",
       "  </tbody>\n",
       "</table>\n",
       "</div>"
      ],
      "text/plain": [
       "          Name  Age      City  Score         Area      Job\n",
       "Age                                                       \n",
       "22  5    Farah   22    Sylhet     84    Sunamganj  Teacher\n",
       "    2    Tarek   22     Dhaka     78       Uttara  Teacher\n",
       "24  4   Imtiaz   24  Rajshahi     88        Pabna  Markter\n",
       "    0  Tamanna   24     Dhaka     85       Mirpur  Teacher\n",
       "27  1   Faysal   27    Sylhet     95  Moulvibazar   Doctor\n",
       "32  3    Raisa   32    Khulna     90      Jessore    Pilot"
      ]
     },
     "execution_count": 110,
     "metadata": {},
     "output_type": "execute_result"
    }
   ],
   "source": [
    "def top(group):\n",
    "    return group.nlargest(2, \"Score\")\n",
    "\n",
    "result = df.groupby(\"Age\").apply(top)\n",
    "result"
   ]
  },
  {
   "cell_type": "markdown",
   "metadata": {},
   "source": [
    "## Categorical Values\n",
    "\n",
    "●\tCategorical/dictionary-encoded representation: using integers to identify unique values\n",
    "\n",
    "●\tThe array of distinct values is called categories\n",
    "\n",
    "●\tThe integer values that represent the categories are called codes\n",
    "\n",
    "●\tThis yields significant performance improvements and is a better representation of data for models\n",
    "\n",
    "Color (Original) | Code (Encoded)\n",
    "----------------|----------------\n",
    "Red             | 0\n",
    "Blue            | 1\n",
    "Red             | 0\n",
    "Green           | 2\n",
    "Blue            | 1\n"
   ]
  },
  {
   "cell_type": "code",
   "execution_count": 111,
   "metadata": {},
   "outputs": [
    {
     "data": {
      "text/html": [
       "<div>\n",
       "<style scoped>\n",
       "    .dataframe tbody tr th:only-of-type {\n",
       "        vertical-align: middle;\n",
       "    }\n",
       "\n",
       "    .dataframe tbody tr th {\n",
       "        vertical-align: top;\n",
       "    }\n",
       "\n",
       "    .dataframe thead th {\n",
       "        text-align: right;\n",
       "    }\n",
       "</style>\n",
       "<table border=\"1\" class=\"dataframe\">\n",
       "  <thead>\n",
       "    <tr style=\"text-align: right;\">\n",
       "      <th></th>\n",
       "      <th>Color</th>\n",
       "    </tr>\n",
       "  </thead>\n",
       "  <tbody>\n",
       "    <tr>\n",
       "      <th>0</th>\n",
       "      <td>Red</td>\n",
       "    </tr>\n",
       "    <tr>\n",
       "      <th>1</th>\n",
       "      <td>Blue</td>\n",
       "    </tr>\n",
       "    <tr>\n",
       "      <th>2</th>\n",
       "      <td>Red</td>\n",
       "    </tr>\n",
       "    <tr>\n",
       "      <th>3</th>\n",
       "      <td>Green</td>\n",
       "    </tr>\n",
       "    <tr>\n",
       "      <th>4</th>\n",
       "      <td>Blue</td>\n",
       "    </tr>\n",
       "  </tbody>\n",
       "</table>\n",
       "</div>"
      ],
      "text/plain": [
       "   Color\n",
       "0    Red\n",
       "1   Blue\n",
       "2    Red\n",
       "3  Green\n",
       "4   Blue"
      ]
     },
     "execution_count": 111,
     "metadata": {},
     "output_type": "execute_result"
    }
   ],
   "source": [
    "df = pd.DataFrame({'Color': ['Red', 'Blue', 'Red', 'Green', 'Blue']})\n",
    "df"
   ]
  },
  {
   "cell_type": "code",
   "execution_count": 112,
   "metadata": {},
   "outputs": [
    {
     "name": "stdout",
     "output_type": "stream",
     "text": [
      "Categories: Index(['Blue', 'Green', 'Red'], dtype='object')\n",
      "Codes:\n",
      " 0    2\n",
      "1    0\n",
      "2    2\n",
      "3    1\n",
      "4    0\n",
      "dtype: int8\n",
      "\n",
      "Encoded DataFrame:\n",
      "    Color  Color_Code\n",
      "0    Red           2\n",
      "1   Blue           0\n",
      "2    Red           2\n",
      "3  Green           1\n",
      "4   Blue           0\n"
     ]
    }
   ],
   "source": [
    "# Convert the 'Color' column to a categorical type\n",
    "df['Color'] = df['Color'].astype('category')\n",
    "#color=df['Color'].astype('category')\n",
    "#print(color.values)\n",
    "# Get the categories (distinct values)\n",
    "categories = df['Color'].cat.categories\n",
    "print(\"Categories:\", categories)\n",
    "\n",
    "# Get the codes (integer representation)\n",
    "codes = df['Color'].cat.codes\n",
    "print(\"Codes:\\n\", codes)\n",
    "\n",
    "# Add the codes to the DataFrame\n",
    "df['Color_Code'] = codes\n",
    "print(\"\\nEncoded DataFrame:\\n\", df)"
   ]
  }
 ],
 "metadata": {
  "kernelspec": {
   "display_name": "Python 3",
   "language": "python",
   "name": "python3"
  },
  "language_info": {
   "codemirror_mode": {
    "name": "ipython",
    "version": 3
   },
   "file_extension": ".py",
   "mimetype": "text/x-python",
   "name": "python",
   "nbconvert_exporter": "python",
   "pygments_lexer": "ipython3",
   "version": "3.13.1"
  }
 },
 "nbformat": 4,
 "nbformat_minor": 2
}
